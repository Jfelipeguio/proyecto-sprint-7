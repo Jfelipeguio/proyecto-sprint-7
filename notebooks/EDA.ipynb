{
 "cells": [
  {
   "cell_type": "code",
   "execution_count": null,
   "id": "5efccd5e",
   "metadata": {},
   "outputs": [],
   "source": [
    "import pandas as pd\n",
    "import plotly.express as px\n",
    "\n",
    "# Carga de datos\n",
    "df = pd.read_csv('../vehicles_us.csv')\n",
    "df.head()"
   ]
  },
  {
   "cell_type": "code",
   "execution_count": null,
   "id": "686036a7",
   "metadata": {},
   "outputs": [],
   "source": [
    "# Histograma de Kilometraje\n",
    "fig = px.histogram(df, x='odometer', nbins=30, title='Distribución de Kilometraje')\n",
    "fig"
   ]
  },
  {
   "cell_type": "code",
   "execution_count": null,
   "id": "efd25ff5",
   "metadata": {},
   "outputs": [],
   "source": [
    "# Gráfico de dispersión Kilometraje vs Precio\n",
    "fig2 = px.scatter(df, x='odometer', y='price', hover_data=['model_year','model'], title='Kilometraje vs Precio')\n",
    "fig2"
   ]
  }
 ],
 "metadata": {},
 "nbformat": 4,
 "nbformat_minor": 5
}
